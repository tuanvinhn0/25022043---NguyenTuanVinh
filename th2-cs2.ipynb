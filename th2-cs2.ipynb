{
 "cells": [
  {
   "cell_type": "code",
   "execution_count": 31,
   "id": "4a13c76f-1357-43e4-a68e-79f448c21b17",
   "metadata": {},
   "outputs": [
    {
     "name": "stdout",
     "output_type": "stream",
     "text": [
      "Hello World!\n"
     ]
    }
   ],
   "source": [
    "#W2A1\n",
    "print(\"Hello World!\")"
   ]
  },
  {
   "cell_type": "code",
   "execution_count": 3,
   "id": "d21434ab-7d19-4839-bf8a-854750dab9ed",
   "metadata": {},
   "outputs": [
    {
     "name": "stdin",
     "output_type": "stream",
     "text": [
      " vinh\n"
     ]
    },
    {
     "name": "stdout",
     "output_type": "stream",
     "text": [
      "Xin chao ban vinh\n"
     ]
    }
   ],
   "source": [
    "#W2A2\n",
    "name = input()\n",
    "print(\"Xin chao ban\", name)"
   ]
  },
  {
   "cell_type": "code",
   "execution_count": 11,
   "id": "0c78d99a-da29-4d3c-881c-1898246cf9ed",
   "metadata": {},
   "outputs": [
    {
     "name": "stdin",
     "output_type": "stream",
     "text": [
      " 40 32\n"
     ]
    },
    {
     "name": "stdout",
     "output_type": "stream",
     "text": [
      "40 + 32 = 72\n",
      "40 - 32 = 8\n",
      "40 * 32 = 1280\n",
      "40 // 32 = 1\n",
      "40 / 32 = 1.25\n",
      "40 % 32 = 8\n"
     ]
    }
   ],
   "source": [
    "#W2A3\n",
    "a, b = map(int, input().split(' '))\n",
    "print(f'{a} + {b} = {a+b}')\n",
    "print(f'{a} - {b} = {a-b}')\n",
    "print(f'{a} * {b} = {a*b}')\n",
    "print(f'{a} // {b} = {a//b}')\n",
    "print(f'{a} / {b} = {a/b:.2f}')\n",
    "print(f'{a} % {b} = {a%b}')"
   ]
  },
  {
   "cell_type": "code",
   "execution_count": 16,
   "id": "7d8fe9d8-ee0c-417b-811b-eba9157a3f26",
   "metadata": {},
   "outputs": [
    {
     "name": "stdin",
     "output_type": "stream",
     "text": [
      " 7 8 9 10 10 9\n"
     ]
    },
    {
     "name": "stdout",
     "output_type": "stream",
     "text": [
      "9.1\n"
     ]
    }
   ],
   "source": [
    "#W2A4\n",
    "a1, b1, c1, a2, b2, a3 = map(int, input().split())\n",
    "Tb =((a1 + b1 + c1) + (a2 + b2) * 2 + a3 * 3)/10\n",
    "print(f'{Tb:.1f}')"
   ]
  },
  {
   "cell_type": "code",
   "execution_count": 17,
   "id": "0efb550f-a6b9-4d1d-914b-289d5708de08",
   "metadata": {},
   "outputs": [
    {
     "name": "stdin",
     "output_type": "stream",
     "text": [
      " 2 3\n"
     ]
    },
    {
     "name": "stdout",
     "output_type": "stream",
     "text": [
      "8\n"
     ]
    }
   ],
   "source": [
    "#W2A5\n",
    "a, b = map(int, input().split())\n",
    "print(f'{a**b}')"
   ]
  },
  {
   "cell_type": "code",
   "execution_count": 24,
   "id": "ae4420e3-1356-443a-84b1-f0bd4d7164e2",
   "metadata": {},
   "outputs": [
    {
     "name": "stdin",
     "output_type": "stream",
     "text": [
      " j\n"
     ]
    },
    {
     "name": "stdout",
     "output_type": "stream",
     "text": [
      "74 J\n",
      "È\n"
     ]
    }
   ],
   "source": [
    "#W2A6\n",
    "s1 = input()\n",
    "s1 = ord(s1) - 32\n",
    "print(s1, chr(s1))\n",
    "print(chr(200))\n",
    "          "
   ]
  },
  {
   "cell_type": "code",
   "execution_count": 26,
   "id": "1b84ee9f-e758-46d9-8a80-ca3aa3e030d9",
   "metadata": {},
   "outputs": [
    {
     "name": "stdout",
     "output_type": "stream",
     "text": [
      "A = 512 B = 512\n"
     ]
    }
   ],
   "source": [
    "#W2A7\n",
    "A = ((13**2)*3)+5\n",
    "B = 13**2*3+5\n",
    "print(\"A =\", A, \"B =\", B)"
   ]
  },
  {
   "cell_type": "code",
   "execution_count": 30,
   "id": "1db401be-6e3a-42a8-8703-8beb5721e9a8",
   "metadata": {},
   "outputs": [
    {
     "name": "stdin",
     "output_type": "stream",
     "text": [
      " 0\n"
     ]
    },
    {
     "name": "stdout",
     "output_type": "stream",
     "text": [
      "32.00\n"
     ]
    }
   ],
   "source": [
    "#W2A8\n",
    "C = float (input())\n",
    "F = (9/5)*C + 32\n",
    "print(f'{F:.2f}')"
   ]
  },
  {
   "cell_type": "code",
   "execution_count": 3,
   "id": "0c682378-360b-4ff1-85bf-f9f9208c359d",
   "metadata": {},
   "outputs": [
    {
     "name": "stdin",
     "output_type": "stream",
     "text": [
      " 100\n"
     ]
    },
    {
     "name": "stdout",
     "output_type": "stream",
     "text": [
      "Price: 150.00\n"
     ]
    }
   ],
   "source": [
    "#W2A9\n",
    "x = int(input())\n",
    "price = x + 10 + x * 0.4\n",
    "print('Price:', f'{price:.2f}')\n"
   ]
  },
  {
   "cell_type": "code",
   "execution_count": 12,
   "id": "0cf8ebf2-4016-42d1-b689-d25c061f31f7",
   "metadata": {},
   "outputs": [
    {
     "name": "stdin",
     "output_type": "stream",
     "text": [
      "  bob alice helen\n"
     ]
    },
    {
     "name": "stdout",
     "output_type": "stream",
     "text": [
      "Hi helen, alice and bob.\n"
     ]
    }
   ],
   "source": [
    "#W2A10\n",
    "a, b, c = map(str, input().split())\n",
    "print(f'Hi {c}, {b} and {a}.')"
   ]
  },
  {
   "cell_type": "code",
   "execution_count": 13,
   "id": "fcf482e5-5508-461f-a690-509679788390",
   "metadata": {},
   "outputs": [
    {
     "name": "stdin",
     "output_type": "stream",
     "text": [
      " 2 30\n"
     ]
    },
    {
     "name": "stdout",
     "output_type": "stream",
     "text": [
      "2520\n"
     ]
    }
   ],
   "source": [
    "#W2A11\n",
    "h, m = map(int, input().split())\n",
    "print(h * 360 + m * 60)"
   ]
  },
  {
   "cell_type": "code",
   "execution_count": 17,
   "id": "324ccc74-88e4-4aa6-9140-102e8295a39c",
   "metadata": {},
   "outputs": [
    {
     "name": "stdin",
     "output_type": "stream",
     "text": [
      " 4\n"
     ]
    },
    {
     "name": "stdout",
     "output_type": "stream",
     "text": [
      "96\n"
     ]
    }
   ],
   "source": [
    "#W2A12\n",
    "n = int(input())\n",
    "res = 6 * (n ** 2)\n",
    "print(res)\n"
   ]
  },
  {
   "cell_type": "code",
   "execution_count": 22,
   "id": "fd31524d-0f18-47cf-910c-2a86f04d8b92",
   "metadata": {},
   "outputs": [
    {
     "name": "stdin",
     "output_type": "stream",
     "text": [
      " 6 7\n"
     ]
    },
    {
     "name": "stdout",
     "output_type": "stream",
     "text": [
      "2\n"
     ]
    }
   ],
   "source": [
    "#W2A13\n",
    "a, b = map(int, input().split())\n",
    "print((a * b) % 10)"
   ]
  },
  {
   "cell_type": "code",
   "execution_count": 24,
   "id": "9216d604-43c8-4ad6-a3da-4f79cc0cfdb9",
   "metadata": {},
   "outputs": [
    {
     "name": "stdin",
     "output_type": "stream",
     "text": [
      " 2 3\n"
     ]
    },
    {
     "name": "stdout",
     "output_type": "stream",
     "text": [
      "3 2\n"
     ]
    }
   ],
   "source": [
    "#W2A14\n",
    "a, b = map(int, input().split())\n",
    "a, b = b, a\n",
    "print(a, b)"
   ]
  },
  {
   "cell_type": "code",
   "execution_count": 30,
   "id": "9620abd7-4770-468c-af25-980b4a64ef17",
   "metadata": {},
   "outputs": [
    {
     "name": "stdin",
     "output_type": "stream",
     "text": [
      " 4\n"
     ]
    },
    {
     "name": "stdout",
     "output_type": "stream",
     "text": [
      "73\n"
     ]
    }
   ],
   "source": [
    "#W2A15\n",
    "n = int(input())\n",
    "res = 6 * n * (n - 1) + 1\n",
    "print(res)"
   ]
  },
  {
   "cell_type": "code",
   "execution_count": null,
   "id": "6d52d8d0-306d-45b0-a276-8b405d50b979",
   "metadata": {},
   "outputs": [],
   "source": []
  }
 ],
 "metadata": {
  "kernelspec": {
   "display_name": "Python 3 (ipykernel)",
   "language": "python",
   "name": "python3"
  },
  "language_info": {
   "codemirror_mode": {
    "name": "ipython",
    "version": 3
   },
   "file_extension": ".py",
   "mimetype": "text/x-python",
   "name": "python",
   "nbconvert_exporter": "python",
   "pygments_lexer": "ipython3",
   "version": "3.13.7"
  }
 },
 "nbformat": 4,
 "nbformat_minor": 5
}
