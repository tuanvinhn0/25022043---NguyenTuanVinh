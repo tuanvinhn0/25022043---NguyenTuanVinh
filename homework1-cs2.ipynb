{
 "cells": [
  {
   "cell_type": "code",
   "execution_count": 2,
   "id": "02d2c73c-66d4-4686-b736-2e229bd998f6",
   "metadata": {},
   "outputs": [
    {
     "name": "stdin",
     "output_type": "stream",
     "text": [
      " 2\n"
     ]
    },
    {
     "name": "stdout",
     "output_type": "stream",
     "text": [
      "4\n"
     ]
    }
   ],
   "source": [
    "#bai 1\n",
    "n = int(input())\n",
    "res = 2 * n\n",
    "print(res)"
   ]
  },
  {
   "cell_type": "code",
   "execution_count": 46,
   "id": "fc4efc15-1955-457d-a945-d6397f5f75b7",
   "metadata": {},
   "outputs": [
    {
     "name": "stdin",
     "output_type": "stream",
     "text": [
      "nhap chieu rong va chieu dai: 10 24\n"
     ]
    },
    {
     "name": "stdout",
     "output_type": "stream",
     "text": [
      "dien tich = 161.50\n"
     ]
    }
   ],
   "source": [
    "#bai 2\n",
    "a, b = map(float, input('nhap chieu rong va chieu dai:').split())\n",
    "dientich = a * b - 3.14 * ((a / 2) ** 2)\n",
    "print('dien tich =','{:.2f}'.format(dientich))"
   ]
  },
  {
   "cell_type": "code",
   "execution_count": 37,
   "id": "222c94b0-d61a-4955-8f47-2cecff31addd",
   "metadata": {},
   "outputs": [
    {
     "name": "stdin",
     "output_type": "stream",
     "text": [
      " A\n"
     ]
    },
    {
     "name": "stdout",
     "output_type": "stream",
     "text": [
      "a\n"
     ]
    }
   ],
   "source": [
    "#bai 3\n",
    "c = ord(input())\n",
    "if 65 <= c <= 90:\n",
    "    print(chr(c + 32))\n",
    "elif 97 <= c <= 122:\n",
    "    print(chr(c - 32))\n",
    "else: \n",
    "    print('invalid')"
   ]
  },
  {
   "cell_type": "code",
   "execution_count": 34,
   "id": "c759c0ba-eba8-4010-ad5c-b9557bb9d4ce",
   "metadata": {},
   "outputs": [
    {
     "name": "stdin",
     "output_type": "stream",
     "text": [
      " 1\n"
     ]
    },
    {
     "name": "stdout",
     "output_type": "stream",
     "text": [
      "1 khong phai la ki tu alphabet\n"
     ]
    }
   ],
   "source": [
    "#bai 4\n",
    "c = ord(input())\n",
    "if (65 <= c <= 90) or (97 <= c <= 122):\n",
    "    print(chr(c), 'la ki tu alphabet')\n",
    "else:\n",
    "    print(chr(c), 'khong phai la ki tu alphabet')"
   ]
  },
  {
   "cell_type": "code",
   "execution_count": 41,
   "id": "c809a604-1c52-409f-8e24-183fa8ab36c0",
   "metadata": {},
   "outputs": [
    {
     "name": "stdin",
     "output_type": "stream",
     "text": [
      " S\n"
     ]
    },
    {
     "name": "stdout",
     "output_type": "stream",
     "text": [
      "r\n"
     ]
    }
   ],
   "source": [
    "#bai 5\n",
    "n = ord(input())\n",
    "if n == 65:\n",
    "    print('z')\n",
    "elif 66 <= n <= 90:\n",
    "    print(chr(n + 31))\n",
    "else:\n",
    "    print('invalid')\n"
   ]
  },
  {
   "cell_type": "code",
   "execution_count": 1,
   "id": "6a1e99b8-5b1d-4d00-8ba1-68ca36d351ee",
   "metadata": {},
   "outputs": [
    {
     "name": "stdin",
     "output_type": "stream",
     "text": [
      " 3 4 5\n"
     ]
    },
    {
     "name": "stdout",
     "output_type": "stream",
     "text": [
      "dien tich cua tam giac la: area:.2f\n"
     ]
    }
   ],
   "source": [
    "#bai 6\n",
    "from math import *\n",
    "a, b, c = map(float, input().split())\n",
    "p = (a + b +c) / 2 #nua chu vi\n",
    "area = sqrt(p * (p - a) * (p - b) * (p - c)) #heron\n",
    "if (a + b > c) and (b + c > a) and (a + c > b):\n",
    "    print('dien tich cua tam giac la:', '{:.1f}'.format(area))\n",
    "else:\n",
    "    print('khong phai 3 canh cua tam giac')"
   ]
  },
  {
   "cell_type": "code",
   "execution_count": 91,
   "id": "770790ed-3ea0-4288-bcd2-24b365b55279",
   "metadata": {},
   "outputs": [
    {
     "name": "stdin",
     "output_type": "stream",
     "text": [
      " mdaos9qnsopznsjwutlskris\n"
     ]
    },
    {
     "name": "stdout",
     "output_type": "stream",
     "text": [
      "9 o\n"
     ]
    }
   ],
   "source": [
    "#bai 7\n",
    "s = input()\n",
    "print(s[5], s[9])"
   ]
  },
  {
   "cell_type": "code",
   "execution_count": 13,
   "id": "487a5818-dceb-4016-a41b-64fe8618d891",
   "metadata": {},
   "outputs": [
    {
     "name": "stdin",
     "output_type": "stream",
     "text": [
      "Ten chu ho: đa\n",
      "Chi so thang truoc: 2222\n",
      "Chi so thang nay: 2334\n"
     ]
    },
    {
     "name": "stdout",
     "output_type": "stream",
     "text": [
      "\n",
      "Ho va ten: đa\n",
      "Tien phai tra la: 248680\n"
     ]
    }
   ],
   "source": [
    "#bai 8\n",
    "ten = input('Ten chu ho:')\n",
    "n0 = int(input('Chi so thang truoc:'))\n",
    "n1 = int(input('Chi so thang nay:'))\n",
    "n = n1 - n0 # số điện\n",
    "tien = 0\n",
    "if n <= 50:\n",
    "    tien = n * 1984\n",
    "elif n <= 100:\n",
    "    tien = 50 * 1984 + (n - 50) * 2050\n",
    "elif n <= 200:\n",
    "    tien = 50 * (1984 + 2050) + (n - 100) * 2380\n",
    "elif n <= 300:\n",
    "    tien = 50 * (1984 + 2050) + 100 * 2380 + (n - 200) * 2998\n",
    "elif n <= 400:\n",
    "    tien = 50 * (1984 + 2050) + 100 * (2380 + 2998) + (n - 300) * 3350\n",
    "else:\n",
    "    tien = 50 * (1984 + 2050) + 100 * (2380 + 2998 + 3350) + (n - 400) * 3460\n",
    "tien *= (1 + 0.08) # +8% VAT\n",
    "print('Ho va ten:', ten)\n",
    "print('Tien phai tra la:', int(tien))\n",
    "    "
   ]
  },
  {
   "cell_type": "code",
   "execution_count": 4,
   "id": "d3cc8b9e-8bc2-4fbd-b695-fa8510407ebf",
   "metadata": {},
   "outputs": [
    {
     "name": "stdin",
     "output_type": "stream",
     "text": [
      " 0\n"
     ]
    },
    {
     "name": "stdout",
     "output_type": "stream",
     "text": [
      "0 la so chan\n"
     ]
    }
   ],
   "source": [
    "#*1\n",
    "n = int(input())\n",
    "if n % 2 == 0:\n",
    "    print(n, 'la so chan')\n",
    "else:\n",
    "    print(n, 'la so le')"
   ]
  },
  {
   "cell_type": "code",
   "execution_count": 2,
   "id": "ebe95beb-c5de-4558-931d-bec34b00a28c",
   "metadata": {},
   "outputs": [
    {
     "name": "stdin",
     "output_type": "stream",
     "text": [
      " 0193193285\n"
     ]
    },
    {
     "name": "stdout",
     "output_type": "stream",
     "text": [
      "True\n"
     ]
    }
   ],
   "source": [
    "#*2\n",
    "n = int(input())\n",
    "n %= 10\n",
    "if n == 5:\n",
    "    print('True')\n",
    "else:\n",
    "    print('False')"
   ]
  },
  {
   "cell_type": "code",
   "execution_count": null,
   "id": "0bb80205-f855-4c15-a56d-ffa75ed3b7cb",
   "metadata": {},
   "outputs": [],
   "source": [
    "#*3\n",
    "n = int(input())\n",
    "if (n % 3 == 0) and (n % 5 == 0):\n",
    "    print('True')\n",
    "else:\n",
    "    print('False')"
   ]
  },
  {
   "cell_type": "code",
   "execution_count": 16,
   "id": "cfa3fa24-6b69-48ef-8042-5ae3df29b07c",
   "metadata": {},
   "outputs": [
    {
     "name": "stdin",
     "output_type": "stream",
     "text": [
      " 1993\n"
     ]
    },
    {
     "name": "stdout",
     "output_type": "stream",
     "text": [
      "Yes\n"
     ]
    }
   ],
   "source": [
    "#*4\n",
    "n = int(input())\n",
    "if 2025 - n >= 18:\n",
    "    print('Yes')\n",
    "else:\n",
    "    print('No')"
   ]
  },
  {
   "cell_type": "code",
   "execution_count": 23,
   "id": "3104a847-d514-4fe6-a20a-2427188354b9",
   "metadata": {},
   "outputs": [
    {
     "name": "stdin",
     "output_type": "stream",
     "text": [
      " 11 12\n"
     ]
    },
    {
     "name": "stdout",
     "output_type": "stream",
     "text": [
      "12\n"
     ]
    }
   ],
   "source": [
    "#*5\n",
    "a, b = map(int, input().split())\n",
    "if a > b:\n",
    "    print(a)\n",
    "elif a == b:\n",
    "    print('2 so bang nhau')\n",
    "else:\n",
    "    print(b)"
   ]
  },
  {
   "cell_type": "code",
   "execution_count": 31,
   "id": "9ede3ba8-7108-40f1-ab35-31b313a2f945",
   "metadata": {},
   "outputs": [
    {
     "name": "stdin",
     "output_type": "stream",
     "text": [
      " 2\n"
     ]
    },
    {
     "name": "stdout",
     "output_type": "stream",
     "text": [
      "2 la so\n"
     ]
    }
   ],
   "source": [
    "#*6\n",
    "s = ord(input())\n",
    "if 48 <= s <= 57:\n",
    "    print(chr(s), 'la so')\n",
    "elif (65 <= s <= 90) or (97 <= s <= 122):\n",
    "    print(chr(s), 'la chu')\n"
   ]
  },
  {
   "cell_type": "code",
   "execution_count": 54,
   "id": "7300507d-7614-4c9c-9df0-9e3cfe8133fb",
   "metadata": {},
   "outputs": [
    {
     "name": "stdin",
     "output_type": "stream",
     "text": [
      " -2\n"
     ]
    },
    {
     "name": "stdout",
     "output_type": "stream",
     "text": [
      "INVALID\n"
     ]
    }
   ],
   "source": [
    "#*7\n",
    "diem = float(input())\n",
    "if 8 <= diem <= 10:\n",
    "    print('Gioi')\n",
    "elif 6.5 <= diem < 8:\n",
    "    print('Kha')\n",
    "elif 5 <= diem < 6.5:\n",
    "    print('Trung binh')\n",
    "elif 0 <= diem < 5:\n",
    "    print('Yeu')\n",
    "else:\n",
    "    print('INVALID')"
   ]
  },
  {
   "cell_type": "code",
   "execution_count": 55,
   "id": "00db5ced-17d4-472b-8788-194ea34c0e27",
   "metadata": {},
   "outputs": [
    {
     "name": "stdin",
     "output_type": "stream",
     "text": [
      " 2024\n"
     ]
    },
    {
     "name": "stdout",
     "output_type": "stream",
     "text": [
      "2024 la nam nhuan\n"
     ]
    }
   ],
   "source": [
    "#*8\n",
    "year = int(input())\n",
    "if (year % 400 == 0) or (year % 4 == 0 and year % 100 != 0):\n",
    "    print(year, 'la nam nhuan')\n",
    "else:\n",
    "    print(year, 'khong phai la nam nhuan')"
   ]
  },
  {
   "cell_type": "code",
   "execution_count": 5,
   "id": "ae6530c7-92be-4b8d-b5ba-0d2c9bb4a7a3",
   "metadata": {},
   "outputs": [
    {
     "name": "stdin",
     "output_type": "stream",
     "text": [
      " 5\n"
     ]
    },
    {
     "name": "stdout",
     "output_type": "stream",
     "text": [
      "Năm\n"
     ]
    }
   ],
   "source": [
    "#*9\n",
    "n = int(input())\n",
    "match n:\n",
    "    case 0:\n",
    "        print('Không')\n",
    "    case 1:\n",
    "        print('Một')\n",
    "    case 2:\n",
    "        print('Hai')\n",
    "    case 3:\n",
    "        print('Ba')\n",
    "    case 4:\n",
    "        print('Bốn')\n",
    "    case 5:\n",
    "        print('Năm')\n",
    "    case 6:\n",
    "        print('Sáu')\n",
    "    case 7:\n",
    "        print('Bảy')\n",
    "    case 8:\n",
    "        print('Tám')\n",
    "    case 9:\n",
    "        print('Chín')\n",
    "\n",
    "\n",
    "    "
   ]
  },
  {
   "cell_type": "code",
   "execution_count": 9,
   "id": "e3afa938-1a5d-4263-bbde-03f38563a963",
   "metadata": {},
   "outputs": [
    {
     "name": "stdin",
     "output_type": "stream",
     "text": [
      " 4.5\n"
     ]
    },
    {
     "name": "stdout",
     "output_type": "stream",
     "text": [
      "Qua mon\n"
     ]
    }
   ],
   "source": [
    "#*10\n",
    "scr = float(input())\n",
    "if 0 <= scr < 4:\n",
    "    print('Hoc lai')\n",
    "elif 4 <= scr <= 10:\n",
    "    print('Qua mon')"
   ]
  },
  {
   "cell_type": "code",
   "execution_count": 14,
   "id": "6ac556c4-697f-4635-a7c0-2fd122107211",
   "metadata": {},
   "outputs": [
    {
     "name": "stdin",
     "output_type": "stream",
     "text": [
      " 2008\n"
     ]
    },
    {
     "name": "stdout",
     "output_type": "stream",
     "text": [
      "17 tuổi - Chưa đủ 19 tuổi\n"
     ]
    }
   ],
   "source": [
    "#*11\n",
    "yborn = int(input())\n",
    "age = 2025 - yborn\n",
    "if age == 18:\n",
    "    print(age, 'tuổi - Đã đủ 18 tuổi')\n",
    "elif age <= 18:\n",
    "    print(age, 'tuổi - Chưa đủ 19 tuổi')\n",
    "else:\n",
    "    print(age, 'tuổi')\n"
   ]
  },
  {
   "cell_type": "code",
   "execution_count": null,
   "id": "112d4002-d6fa-47ed-8cda-939e454c4f18",
   "metadata": {},
   "outputs": [],
   "source": []
  }
 ],
 "metadata": {
  "kernelspec": {
   "display_name": "Python 3 (ipykernel)",
   "language": "python",
   "name": "python3"
  },
  "language_info": {
   "codemirror_mode": {
    "name": "ipython",
    "version": 3
   },
   "file_extension": ".py",
   "mimetype": "text/x-python",
   "name": "python",
   "nbconvert_exporter": "python",
   "pygments_lexer": "ipython3",
   "version": "3.13.7"
  }
 },
 "nbformat": 4,
 "nbformat_minor": 5
}
