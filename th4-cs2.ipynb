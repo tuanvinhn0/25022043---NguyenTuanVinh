{
 "cells": [
  {
   "cell_type": "code",
   "execution_count": 4,
   "id": "30af0a53-d025-44c8-81d5-57c48147a87b",
   "metadata": {},
   "outputs": [
    {
     "name": "stdout",
     "output_type": "stream",
     "text": [
      " 5\n"
     ]
    },
    {
     "name": "stdout",
     "output_type": "stream",
     "text": [
      "15\n"
     ]
    }
   ],
   "source": [
    "# W4A1\n",
    "n = int(input())\n",
    "sum = 0\n",
    "for i in range(n + 1):\n",
    "    sum += i\n",
    "print(sum)"
   ]
  },
  {
   "cell_type": "code",
   "execution_count": null,
   "id": "cffad4d2-7f3a-4624-9b82-2583d4f271f0",
   "metadata": {},
   "outputs": [
    {
     "name": "stdout",
     "output_type": "stream",
     "text": [
      "Prime\n"
     ]
    }
   ],
   "source": [
    "# W4A2\n",
    "from math import isqrt\n",
    "\n",
    "while True:\n",
    "    try:\n",
    "        n = int(input())\n",
    "        if n < 0:\n",
    "            print('Invalid value')\n",
    "            continue\n",
    "        break\n",
    "    except ValueError:\n",
    "        print('Value is not an integer')\n",
    "\n",
    "if n < 2:\n",
    "    print('Not prime')\n",
    "else:\n",
    "    for i in range(2, isqrt(n) + 1):\n",
    "        if n % i == 0:\n",
    "            print('Not prime')\n",
    "            break\n",
    "    else:\n",
    "        print('Prime')\n",
    "            "
   ]
  },
  {
   "cell_type": "code",
   "execution_count": null,
   "id": "f3b62c7d",
   "metadata": {},
   "outputs": [
    {
     "name": "stdout",
     "output_type": "stream",
     "text": [
      "120\n"
     ]
    }
   ],
   "source": [
    "# W4A3\n",
    "n = int(input())\n",
    "res = 1\n",
    "if n == 0:\n",
    "    print(res)\n",
    "else:\n",
    "    for i in range(1, n + 1):\n",
    "        res *= i\n",
    "    print(res)"
   ]
  },
  {
   "cell_type": "code",
   "execution_count": 33,
   "id": "d582d4e7",
   "metadata": {},
   "outputs": [
    {
     "name": "stdout",
     "output_type": "stream",
     "text": [
      "5\n"
     ]
    }
   ],
   "source": [
    "# W4A4\n",
    "n = int(input())\n",
    "count = 0\n",
    "if n == 0:\n",
    "    count = 1\n",
    "else:\n",
    "    n = abs(n)\n",
    "    while n != 0:\n",
    "        count += 1\n",
    "        n //= 10\n",
    "print(count)"
   ]
  },
  {
   "cell_type": "code",
   "execution_count": null,
   "id": "28c2843f",
   "metadata": {},
   "outputs": [
    {
     "name": "stdout",
     "output_type": "stream",
     "text": [
      "Ive found the meaning of life\n"
     ]
    }
   ],
   "source": [
    "# W4A5\n",
    "n = int(input())\n",
    "flag = False\n",
    "for _ in range(n):\n",
    "    x = int(input())\n",
    "    if x == 42:\n",
    "        flag = True\n",
    "        break\n",
    "if flag:\n",
    "    print(\"I've found the meaning of life\")\n",
    "else:\n",
    "    print(\"It's a joke\")\n"
   ]
  },
  {
   "cell_type": "code",
   "execution_count": null,
   "id": "df0bdc9e",
   "metadata": {},
   "outputs": [
    {
     "name": "stdout",
     "output_type": "stream",
     "text": [
      "[2,10]\n",
      "17\n"
     ]
    }
   ],
   "source": [
    "# W4A6\n",
    "from math import isqrt\n",
    "\n",
    "a, b = map(int, input().split())\n",
    "res = 0\n",
    "\n",
    "for i in range(a, b + 1):\n",
    "    flag = True\n",
    "    for j in range(2, isqrt(i) + 1):\n",
    "        if i % j == 0:\n",
    "            flag = False\n",
    "            break\n",
    "    if flag:\n",
    "        res += i\n",
    "\n",
    "print(f'[{a},{b}]')\n",
    "print(res)"
   ]
  },
  {
   "cell_type": "code",
   "execution_count": null,
   "id": "bcd02f70",
   "metadata": {},
   "outputs": [
    {
     "name": "stdout",
     "output_type": "stream",
     "text": [
      "13195\n",
      "29\n"
     ]
    }
   ],
   "source": [
    "# W4A7\n",
    "from math import isqrt\n",
    "\n",
    "n = int(input())\n",
    "res = 0\n",
    "\n",
    "for i in range(2, isqrt(n)):\n",
    "    flag = True\n",
    "    for j in range(2, isqrt(i) + 1):\n",
    "        if i % j == 0:\n",
    "            flag = False\n",
    "            break\n",
    "    if flag:\n",
    "        if i > res and n % i == 0:\n",
    "            res = i\n",
    "print(n)\n",
    "print(res)"
   ]
  },
  {
   "cell_type": "code",
   "execution_count": null,
   "id": "cf338a94",
   "metadata": {},
   "outputs": [
    {
     "name": "stdout",
     "output_type": "stream",
     "text": [
      "121 la so can tim, so buoc can thuc hien la 0\n"
     ]
    }
   ],
   "source": [
    "# W4A8\n",
    "n = int(input())\n",
    "check = True\n",
    "step = 0\n",
    "\n",
    "while check:\n",
    "    reverse = 0\n",
    "    a = n\n",
    "    while a != 0:\n",
    "        reverse = reverse * 10 + a % 10\n",
    "        a //= 10\n",
    "\n",
    "    s = str(n + reverse)\n",
    "    check = False\n",
    "    for i in range(len(s) // 2):\n",
    "        if s[i] != s[len(s) - i - 1]:\n",
    "            check = True\n",
    "            n = int(s)\n",
    "            step += 1\n",
    "            break\n",
    "\n",
    "print(f'So can tim {int(s)} la , so buoc can thuc hien la {step}')\n"
   ]
  },
  {
   "cell_type": "code",
   "execution_count": 43,
   "id": "ad903d22",
   "metadata": {},
   "outputs": [
    {
     "name": "stdout",
     "output_type": "stream",
     "text": [
      "1 4 9 16 25 36 49 64 81 169 196 "
     ]
    }
   ],
   "source": [
    "# W4A9\n",
    "from math import sqrt\n",
    "n = int(input())\n",
    "\n",
    "if n > 0:\n",
    "    for i in range(1, n + 1):\n",
    "        # Repeat number check\n",
    "        no_repeat = True\n",
    "        num = str(i)\n",
    "        for j in range(len(num)):\n",
    "            for k in range(j + 1, len(num)):\n",
    "                if num[k] == num[j]:\n",
    "                    no_repeat = False\n",
    "                    break\n",
    "            if not no_repeat:\n",
    "                break\n",
    "\n",
    "        if no_repeat:\n",
    "            if sqrt(i).is_integer():\n",
    "                print(i, end = \" \")\n",
    "        \n",
    "else:\n",
    "    print('No number')"
   ]
  },
  {
   "cell_type": "code",
   "execution_count": 58,
   "id": "bfbfd762",
   "metadata": {},
   "outputs": [
    {
     "name": "stdout",
     "output_type": "stream",
     "text": [
      "9 20\n"
     ]
    }
   ],
   "source": [
    "# W4A10\n",
    "def collatz(a: int):\n",
    "    res = [a]\n",
    "    while a != 1:\n",
    "        if a % 2 == 0:\n",
    "            a //= 2\n",
    "        else:\n",
    "            a = 3*a + 1\n",
    "        res.append(a)\n",
    "    return res\n",
    "\n",
    "if __name__ == \"__main__\":\n",
    "    n = int(input())\n",
    "    length = 0\n",
    "    res = 0\n",
    "\n",
    "    for x in range(1, n + 1):\n",
    "        tmp = len(collatz(x))\n",
    "        if tmp > length:\n",
    "            length = tmp\n",
    "            res = x\n",
    "        \n",
    "    print(res, length)\n"
   ]
  },
  {
   "cell_type": "code",
   "execution_count": 61,
   "id": "113c4fbe",
   "metadata": {},
   "outputs": [
    {
     "name": "stdout",
     "output_type": "stream",
     "text": [
      "49\n"
     ]
    }
   ],
   "source": [
    "# W4A11\n",
    "n = int(input())\n",
    "count = 0\n",
    "for i in range(1, n + 1):\n",
    "    if n % i == 0:\n",
    "        count += 1\n",
    "print(count)"
   ]
  },
  {
   "cell_type": "code",
   "execution_count": null,
   "id": "56f6a1ad",
   "metadata": {},
   "outputs": [
    {
     "name": "stdout",
     "output_type": "stream",
     "text": [
      "414 14\n"
     ]
    }
   ],
   "source": [
    "# W4A12\n",
    "x = int(input('Nhap so tien gui: '))\n",
    "month = int(input('Nhap so thang gui: '))\n",
    "\n",
    "finale = x * (1 + 0.007) ** month\n",
    "interest = finale - x\n",
    "\n",
    "print(int(finale), int(interest))"
   ]
  },
  {
   "cell_type": "code",
   "execution_count": 35,
   "id": "cc24fc8a",
   "metadata": {},
   "outputs": [
    {
     "name": "stdout",
     "output_type": "stream",
     "text": [
      "(220, 284) true\n"
     ]
    }
   ],
   "source": [
    "# W4A13\n",
    "a, b = map(int, input().split())\n",
    "sum_a = 0\n",
    "sum_b = 0\n",
    "\n",
    "for i in range(1, a // 2 + 1):\n",
    "    if a % i == 0:\n",
    "        sum_a += i\n",
    "\n",
    "for j in range(1, b // 2 + 1):\n",
    "    if b % j == 0:\n",
    "        sum_b += j\n",
    "\n",
    "if a == sum_b and b == sum_a:\n",
    "    print(f'({a}, {b}) true')\n",
    "else:\n",
    "    print(f'({a}, {b}) false')"
   ]
  },
  {
   "cell_type": "code",
   "execution_count": null,
   "id": "79e5f9a8",
   "metadata": {},
   "outputs": [
    {
     "name": "stdout",
     "output_type": "stream",
     "text": [
      "270 192\n",
      "6\n"
     ]
    }
   ],
   "source": [
    "# W4A14\n",
    "m, n = map(int, input().split())\n",
    "gcd = 0\n",
    "\n",
    "if n > m:\n",
    "    larger = n\n",
    "    smaller = m\n",
    "\n",
    "else:\n",
    "    larger = m\n",
    "    smaller = n\n",
    "\n",
    "for i in range(1 , smaller + 1):\n",
    "    if smaller % i == 0 and larger % i == 0:\n",
    "        gcd = i\n",
    "\n",
    "print(m, n)\n",
    "print(gcd)\n",
    "\n"
   ]
  },
  {
   "cell_type": "code",
   "execution_count": 34,
   "id": "05dc762f",
   "metadata": {},
   "outputs": [
    {
     "name": "stdout",
     "output_type": "stream",
     "text": [
      "Invalid\n"
     ]
    }
   ],
   "source": [
    "# W4A15\n",
    "s = int(input('Nhap tong so ga va cho: '))\n",
    "legs = int(input('Nhap tong so chan: '))\n",
    "\n",
    "if s != 0 and legs !=0 and legs > s and legs % 2 == 0:\n",
    "    #Cramer, det = 2\n",
    "    chickens = (s*4 - legs) // 2\n",
    "    dogs = (legs - 2*s) // 2\n",
    "\n",
    "    if chickens >= 0 and dogs >= 0:\n",
    "        print(f'Chickens: {chickens}, Dogs: {dogs}')\n",
    "    else:\n",
    "        print('Invalid')\n",
    "\n",
    "else:\n",
    "    print('Invalid')"
   ]
  }
 ],
 "metadata": {
  "kernelspec": {
   "display_name": "Python 3",
   "language": "python",
   "name": "python3"
  },
  "language_info": {
   "codemirror_mode": {
    "name": "ipython",
    "version": 3
   },
   "file_extension": ".py",
   "mimetype": "text/x-python",
   "name": "python",
   "nbconvert_exporter": "python",
   "pygments_lexer": "ipython3",
   "version": "3.11.9"
  }
 },
 "nbformat": 4,
 "nbformat_minor": 5
}
