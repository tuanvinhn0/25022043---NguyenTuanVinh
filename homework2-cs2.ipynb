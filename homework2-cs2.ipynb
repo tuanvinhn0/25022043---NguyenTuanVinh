{
 "cells": [
  {
   "cell_type": "code",
   "execution_count": 2,
   "id": "16d4bd61-5ea9-4840-bb85-187f64ca32fe",
   "metadata": {},
   "outputs": [
    {
     "name": "stdin",
     "output_type": "stream",
     "text": [
      " 2 3\n"
     ]
    },
    {
     "name": "stdout",
     "output_type": "stream",
     "text": [
      "dien tich: 6.0\n",
      "chu vi: 10.0\n"
     ]
    }
   ],
   "source": [
    "#bai 1\n",
    "dai, rong = map(float, input().split())\n",
    "dientich = dai * rong\n",
    "chuvi = (dai + rong) * 2\n",
    "print('dien tich:', dientich)\n",
    "print('chu vi:', chuvi)"
   ]
  },
  {
   "cell_type": "code",
   "execution_count": 3,
   "id": "4461a0fc-8b60-4f84-aa84-a94ca8aa3fe1",
   "metadata": {},
   "outputs": [
    {
     "name": "stdin",
     "output_type": "stream",
     "text": [
      " 3\n"
     ]
    },
    {
     "name": "stdout",
     "output_type": "stream",
     "text": [
      "chu vi: 18.84\n",
      "dien tich: 28.26\n"
     ]
    }
   ],
   "source": [
    "#bai 2\n",
    "r = float(input())\n",
    "chuvi = 2 * 3.14 * r\n",
    "dientich = 3.14 * (r ** 2)\n",
    "print('chu vi:', chuvi)\n",
    "print('dien tich:', dientich)"
   ]
  },
  {
   "cell_type": "code",
   "execution_count": 10,
   "id": "713f4cad-7882-4668-98a7-0f67118ffb05",
   "metadata": {},
   "outputs": [
    {
     "name": "stdin",
     "output_type": "stream",
     "text": [
      " 3 3 8\n"
     ]
    },
    {
     "name": "stdout",
     "output_type": "stream",
     "text": [
      "Khong la ba canh cua mot tam giac\n"
     ]
    }
   ],
   "source": [
    "#bai 3\n",
    "from math import pow, sqrt\n",
    "a, b, c = map(float, input().split())\n",
    "if (a + b > c) and (b + c > a) and (a + c > b):\n",
    "    if (sqrt(pow(a, 2) + pow(b, 2)) == c) or (sqrt(pow(b, 2) + pow(c, 2)) == a) or (sqrt(pow(a, 2) + pow(c, 2)) == b):\n",
    "        print('La tam giac vuong')\n",
    "    elif a == b == c:\n",
    "        print('La tam giac deu')\n",
    "    elif (a == b and b != c) or (b == c and c != a) or (a == c and c != b):\n",
    "        print('La tam giac can')\n",
    "    else:\n",
    "        print('La tam giac thuong')\n",
    "    p = (a + b + c) / 2 #nua chu vi\n",
    "    dientich = sqrt(p * (p - a) * (p - b) * (p - c))\n",
    "    chuvi = a + b + c\n",
    "    print('Dien tich: {:.2f}'.format(dientich))\n",
    "    print('Dhu vi: {:.2f}'.format(chuvi))\n",
    "    \n",
    "else:\n",
    "    print('Khong la ba canh cua mot tam giac')"
   ]
  },
  {
   "cell_type": "code",
   "execution_count": 14,
   "id": "c5da86bc-3a28-4c05-a00b-28f4a775ceda",
   "metadata": {},
   "outputs": [
    {
     "name": "stdin",
     "output_type": "stream",
     "text": [
      " 3 8\n"
     ]
    },
    {
     "name": "stdout",
     "output_type": "stream",
     "text": [
      "Nghiem cua phuong trinh x = -2.67\n"
     ]
    }
   ],
   "source": [
    "#bai 4\n",
    "a, b = map(float, input().split())\n",
    "if a != 0:\n",
    "    x = -b / a\n",
    "    print('Nghiem cua phuong trinh x = {:.2f}'.format(x))\n",
    "else:\n",
    "    print('Phuong trinh vo nghiem')\n"
   ]
  },
  {
   "cell_type": "code",
   "execution_count": 22,
   "id": "7270fcab-fd9a-4af5-a7bc-7976aeafbb3d",
   "metadata": {},
   "outputs": [
    {
     "name": "stdin",
     "output_type": "stream",
     "text": [
      " 0 2 1\n"
     ]
    },
    {
     "name": "stdout",
     "output_type": "stream",
     "text": [
      "Khong phai la phuong trinh bac 2\n"
     ]
    }
   ],
   "source": [
    "#bai 5\n",
    "from math import pow, sqrt\n",
    "a, b, c = map(float, input().split())\n",
    "if a != 0:\n",
    "    delta = pow(b, 2) - 4 * a * c\n",
    "    if delta < 0:\n",
    "        print('Phuong trinh vo nghiem')\n",
    "    elif delta == 0:\n",
    "        x = -b / (2 * a)\n",
    "        print('Phuong trinh co nghiem kep x = {:.2f}'.format(x))\n",
    "    else:\n",
    "        x1 = (-b + sqrt(delta)) / (2 * a)\n",
    "        x2 = (-b - sqrt(delta)) / (2 * a)\n",
    "        print(f'Phuong trinh co hai nghiem phan biet x1 = {x1:.2f}, x2 = {x2:.2f}')\n",
    "else:\n",
    "    print('Khong phai la phuong trinh bac 2')\n"
   ]
  },
  {
   "cell_type": "code",
   "execution_count": 27,
   "id": "b6b7dd39-8046-4aa0-b27c-30960cab2f29",
   "metadata": {},
   "outputs": [
    {
     "name": "stdin",
     "output_type": "stream",
     "text": [
      " 0 0 2 3\n"
     ]
    },
    {
     "name": "stdout",
     "output_type": "stream",
     "text": [
      "3\n"
     ]
    }
   ],
   "source": [
    "#Bai 6\n",
    "a, b, c, d = map(int, input().split())\n",
    "lists = [a, b, c, d]\n",
    "print(max(lists))\n",
    "\n"
   ]
  },
  {
   "cell_type": "code",
   "execution_count": 28,
   "id": "b805c94d-89fa-4be4-9be3-3546c8f630ae",
   "metadata": {},
   "outputs": [
    {
     "name": "stdin",
     "output_type": "stream",
     "text": [
      " 0 0 2 3\n"
     ]
    },
    {
     "name": "stdout",
     "output_type": "stream",
     "text": [
      "0\n"
     ]
    }
   ],
   "source": [
    "#Bai 7 \n",
    "a, b, c, d = map(int, input().split())\n",
    "lists = [a, b, c, d]\n",
    "print(min(lists))"
   ]
  },
  {
   "cell_type": "code",
   "execution_count": 32,
   "id": "3b272820-9f24-4e3b-a62c-8b2234b36792",
   "metadata": {},
   "outputs": [
    {
     "name": "stdin",
     "output_type": "stream",
     "text": [
      "Nhap he so phuong trinh 1: 1 2 4\n",
      "Nhap he so phuong trinh 2: 2 4 10\n"
     ]
    },
    {
     "name": "stdout",
     "output_type": "stream",
     "text": [
      "Phuong trinh vo nghiem\n"
     ]
    }
   ],
   "source": [
    "#Bai 8\n",
    "a, b, m = map(float, input(\"Nhap he so phuong trinh 1:\").split())\n",
    "c, d, n = map(float, input('Nhap he so phuong trinh 2:').split())\n",
    "det = a * d - b * c\n",
    "if det != 0:\n",
    "    x = (m * d - b * n) / det\n",
    "    y = (a * n - m * c) / det\n",
    "    print(f'Phuong trinh co nghiem duy nhat x = {x:.2f}, y = {y:.2f}')\n",
    "else:\n",
    "    if a * d == b * c and a * n == m * c and b * n == m * d: #2 duong thang trung nhau\n",
    "        print(\"Phuong trinh co vo so nghiem\")\n",
    "    else: #2 duong thang song song\n",
    "        print('Phuong trinh vo nghiem')"
   ]
  },
  {
   "cell_type": "code",
   "execution_count": 45,
   "id": "65344254-8669-43b5-b723-25d88ddfd353",
   "metadata": {},
   "outputs": [
    {
     "name": "stdin",
     "output_type": "stream",
     "text": [
      " 28\n"
     ]
    },
    {
     "name": "stdout",
     "output_type": "stream",
     "text": [
      "0h, 0m, 28s\n"
     ]
    }
   ],
   "source": [
    "#Bai 9\n",
    "t = int(input())\n",
    "if t < 60:\n",
    "    print(f'0h, 0m, {t}s')\n",
    "else:\n",
    "    hour = t // 3600\n",
    "    minute = (t % 3600) // 60\n",
    "    second = t - 60 * minute - 3600 * hour\n",
    "    print(f'{hour}h, {minute}m, {second}s')\n",
    "    \n",
    "    \n"
   ]
  },
  {
   "cell_type": "code",
   "execution_count": 49,
   "id": "f8f3bdda-de54-4a64-a296-3f36f17853d7",
   "metadata": {},
   "outputs": [
    {
     "name": "stdin",
     "output_type": "stream",
     "text": [
      "Nhap tam duong tron I(a, b): 2 3\n",
      "Nhap ban kinh r: 4\n",
      "Nhap mot diem A(x, y) bat ki: 2 -1\n"
     ]
    },
    {
     "name": "stdout",
     "output_type": "stream",
     "text": [
      "Diem A(2.0,-1.0) thuoc duong tron tam I(2.0,3.0) ban kinh r = 4.0\n"
     ]
    }
   ],
   "source": [
    "#Bai 10\n",
    "from math import sqrt\n",
    "a, b = map(float, input('Nhap tam duong tron I(a, b):').split())\n",
    "r = float(input('Nhap ban kinh r:'))\n",
    "x , y = map(float, input('Nhap mot diem A(x, y) bat ki:').split())\n",
    "d = sqrt(pow(a - x, 2) + pow(b - y, 2))\n",
    "if d == r:\n",
    "    print(f'Diem A({x},{y}) thuoc duong tron tam I({a},{b}), ban kinh r = {r}')\n",
    "else:\n",
    "    print(\"Diem A khong thuoc duong tron\")"
   ]
  },
  {
   "cell_type": "code",
   "execution_count": 52,
   "id": "c5dafa69-67a4-4265-a25d-a0883017b52d",
   "metadata": {},
   "outputs": [
    {
     "name": "stdin",
     "output_type": "stream",
     "text": [
      " -6 0.75\n"
     ]
    },
    {
     "name": "stdout",
     "output_type": "stream",
     "text": [
      "(-2.7108060108295344+2.7108060108295344j)\n"
     ]
    }
   ],
   "source": [
    "#Bai 11\n",
    "x, y = map(float, input().split())\n",
    "print(x ** y)"
   ]
  },
  {
   "cell_type": "code",
   "execution_count": null,
   "id": "d14ec22c-d559-417f-947d-aa166968ea25",
   "metadata": {},
   "outputs": [],
   "source": []
  }
 ],
 "metadata": {
  "kernelspec": {
   "display_name": "Python 3 (ipykernel)",
   "language": "python",
   "name": "python3"
  },
  "language_info": {
   "codemirror_mode": {
    "name": "ipython",
    "version": 3
   },
   "file_extension": ".py",
   "mimetype": "text/x-python",
   "name": "python",
   "nbconvert_exporter": "python",
   "pygments_lexer": "ipython3",
   "version": "3.13.7"
  }
 },
 "nbformat": 4,
 "nbformat_minor": 5
}
