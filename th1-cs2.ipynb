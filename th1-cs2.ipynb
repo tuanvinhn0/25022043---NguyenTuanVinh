{
 "cells": [
  {
   "cell_type": "code",
   "execution_count": 1,
   "id": "1e06a706-184a-47ad-925d-924f0c6e481f",
   "metadata": {},
   "outputs": [
    {
     "name": "stdout",
     "output_type": "stream",
     "text": [
      "2\n"
     ]
    }
   ],
   "source": [
    "#W1A1\n",
    "a = 7\n",
    "b = 5\n",
    "c = a - b\n",
    "print(c)"
   ]
  },
  {
   "cell_type": "code",
   "execution_count": 2,
   "id": "91e51819-3ecb-44a5-8723-0c0b253835a4",
   "metadata": {},
   "outputs": [
    {
     "name": "stdout",
     "output_type": "stream",
     "text": [
      "Thanh pho Ha Noi - Nam 2025\n"
     ]
    }
   ],
   "source": [
    "#W1A2\n",
    "city = \"Ha Noi\"\n",
    "year = 2025\n",
    "print(\"Thanh pho\", city, \"- Nam\", year)"
   ]
  },
  {
   "cell_type": "code",
   "execution_count": 4,
   "id": "ea4f6ae0-b013-4fef-ab22-7f27c10df427",
   "metadata": {},
   "outputs": [
    {
     "name": "stdout",
     "output_type": "stream",
     "text": [
      "1\n",
      "3\n",
      "6\n",
      "10\n"
     ]
    }
   ],
   "source": [
    "#W1A3\n",
    "n = 4\n",
    "t = 0\n",
    "for i in range(1, n+1):\n",
    "    t += i\n",
    "    print(t)\n",
    "    "
   ]
  },
  {
   "cell_type": "code",
   "execution_count": 5,
   "id": "dfe8d39b-dbed-4b2d-906a-bdd96a7fc5cd",
   "metadata": {},
   "outputs": [
    {
     "name": "stdout",
     "output_type": "stream",
     "text": [
      "1 la so le\n",
      "2 la so chan\n",
      "3 la so le\n",
      "4 la so chan\n"
     ]
    }
   ],
   "source": [
    "#W1A4\n",
    "numbers = [1, 2, 3, 4]\n",
    "for x in numbers:\n",
    "    if x % 2 == 0:\n",
    "        print(x ,\"la so chan\")\n",
    "    else:\n",
    "        print(x ,\"la so le\")"
   ]
  },
  {
   "cell_type": "code",
   "execution_count": 8,
   "id": "e86af78d-0158-40fe-88da-2283cd19e314",
   "metadata": {},
   "outputs": [
    {
     "name": "stdout",
     "output_type": "stream",
     "text": [
      "So phan tu trong danh sach la 1\n",
      "So phan tu trong danh sach la 2\n",
      "So phan tu trong danh sach la 3\n",
      "So phan tu trong danh sach la 4\n"
     ]
    }
   ],
   "source": [
    "#W1A5\n",
    "animals = [\"cat\",\"dog\",\"cat\",\"bird\"]\n",
    "count = 0\n",
    "for a in animals:\n",
    "    count += 1\n",
    "    print(\"So phan tu trong danh sach la\", count)"
   ]
  },
  {
   "cell_type": "code",
   "execution_count": 12,
   "id": "653e738f-c1e0-466c-a173-25aee244d0dd",
   "metadata": {},
   "outputs": [
    {
     "name": "stdout",
     "output_type": "stream",
     "text": [
      "=== AI Prediction System ===\n",
      "1) Sentiment analysis\n",
      "2) Weather forecast\n",
      "3) Exit\n"
     ]
    },
    {
     "name": "stdin",
     "output_type": "stream",
     "text": [
      "Please choose an option:  2\n"
     ]
    },
    {
     "data": {
      "text/plain": [
       "'2'"
      ]
     },
     "execution_count": 12,
     "metadata": {},
     "output_type": "execute_result"
    }
   ],
   "source": [
    "#W1A6\n",
    "#Dòng:\n",
    "print(\"=== AI Prediction System ===\")\n",
    "#👉 In tiêu đề của chương trình (hệ thống dự đoán AI).\n",
    "\n",
    "#Các dòng:\n",
    "print(\"1) Sentiment analysis\")\n",
    "print(\"2) Weather forecast\")\n",
    "print(\"3) Exit\")\n",
    "#👉 In ra các lựa chọn để người dùng biết mình có thể làm gì:\n",
    "#1: phân tích cảm xúc (sentiment analysis).\n",
    "#2: dự báo thời tiết (weather forecast).\n",
    "#3: thoát chương trình (exit).\n",
    "\n",
    "#Dòng:\n",
    "input(\"Please choose an option: \")\n",
    "#👉 Hiển thị lời nhắc và chờ người dùng nhập lựa chọn (ví dụ nhập 1, 2, hoặc 3)."
   ]
  },
  {
   "cell_type": "code",
   "execution_count": 13,
   "id": "5744e5c2-a9be-4f37-9678-58363a8aef50",
   "metadata": {},
   "outputs": [
    {
     "name": "stdin",
     "output_type": "stream",
     "text": [
      "Nhap so:  2\n"
     ]
    },
    {
     "name": "stdout",
     "output_type": "stream",
     "text": [
      "So chan\n"
     ]
    }
   ],
   "source": [
    "#W1A7\n",
    "num = int(input(\"Nhap so: \"))\n",
    "if num % 2 == 0:\n",
    "    print(\"So chan\")\n",
    "else:\n",
    "    print(\"So le\")"
   ]
  },
  {
   "cell_type": "code",
   "execution_count": 19,
   "id": "55bc94bd-1e27-4324-90fa-b0590c7e3fda",
   "metadata": {},
   "outputs": [
    {
     "name": "stdout",
     "output_type": "stream",
     "text": [
      "AI đang học lần 1\n",
      "AI đang học lần 2\n",
      "AI đang học lần 3\n",
      "Huấn luyện xong!\n"
     ]
    }
   ],
   "source": [
    "#W1A8\n",
    "for i in range(3): \n",
    "    print(\"AI đang học lần\", i + 1) \n",
    "print(\"Huấn luyện xong!\") "
   ]
  },
  {
   "cell_type": "code",
   "execution_count": 23,
   "id": "50fadf60-df61-410c-a8dd-c6771f442d3f",
   "metadata": {},
   "outputs": [
    {
     "name": "stdout",
     "output_type": "stream",
     "text": [
      "Dự đoán con vật: cat\n",
      "Dự đoán con vật: dog\n",
      "Dự đoán con vật: fish\n"
     ]
    }
   ],
   "source": [
    "#W1A9\n",
    "for x in [\"cat\", \"dog\", \"fish\"]: \n",
    "    print(\"Dự đoán con vật:\", x)"
   ]
  },
  {
   "cell_type": "code",
   "execution_count": 21,
   "id": "5954759a-ff9f-4e87-a3f3-a509e2bfc715",
   "metadata": {},
   "outputs": [
    {
     "name": "stdout",
     "output_type": "stream",
     "text": [
      "=== AI Prediction System ===\n",
      "1) Sentiment analysis\n",
      "2) Weather forecast\n",
      "3) Exit\n",
      "Please choose an option:\n"
     ]
    }
   ],
   "source": [
    "#W1A10\n",
    "# Simple menu  \n",
    "print(\"=== AI Prediction System ===\")  \n",
    "print(\"1) Sentiment analysis\")  \n",
    "print(\"2) Weather forecast\") \n",
    "print('3) Exit')\n",
    "print(\"Please choose an option:\") "
   ]
  },
  {
   "cell_type": "code",
   "execution_count": null,
   "id": "1d6c5ab1-860c-49c6-b917-ccdb5a32a15d",
   "metadata": {},
   "outputs": [],
   "source": []
  }
 ],
 "metadata": {
  "kernelspec": {
   "display_name": "Python 3 (ipykernel)",
   "language": "python",
   "name": "python3"
  },
  "language_info": {
   "codemirror_mode": {
    "name": "ipython",
    "version": 3
   },
   "file_extension": ".py",
   "mimetype": "text/x-python",
   "name": "python",
   "nbconvert_exporter": "python",
   "pygments_lexer": "ipython3",
   "version": "3.13.7"
  }
 },
 "nbformat": 4,
 "nbformat_minor": 5
}
