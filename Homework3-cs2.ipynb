{
 "cells": [
  {
   "cell_type": "code",
   "execution_count": null,
   "id": "4f282f31-fc86-49f5-b25f-93a657be5abf",
   "metadata": {},
   "outputs": [],
   "source": [
    "#W3A4\n",
    "from math import floor\n",
    "m, n = map(int, input().split())\n",
    "print(floor(m / n))"
   ]
  },
  {
   "cell_type": "code",
   "execution_count": null,
   "id": "924fbc2f-5d68-495c-b89a-0dfbd4714129",
   "metadata": {},
   "outputs": [],
   "source": [
    "#W3A5\n",
    "from math import ceil\n",
    "m, n = map(int, input().split())\n",
    "print(ceil(m / n))"
   ]
  },
  {
   "cell_type": "code",
   "execution_count": null,
   "id": "c21c28f2-f5af-4f76-8046-2d8b4644419d",
   "metadata": {},
   "outputs": [],
   "source": [
    "#W3A6\n",
    "x = int(input())\n",
    "if x % 2 == 0:\n",
    "    print('Even')\n",
    "else:\n",
    "    print('Odd')"
   ]
  },
  {
   "cell_type": "code",
   "execution_count": null,
   "id": "b13138c1-0378-4942-922c-b85cc87fcfca",
   "metadata": {},
   "outputs": [],
   "source": [
    "#W3A7\n",
    "a, b = map(int, input().split())\n",
    "if a < 0 and b < 0:\n",
    "    print(\"Yes\")\n",
    "else:\n",
    "    print('No')"
   ]
  },
  {
   "cell_type": "code",
   "execution_count": null,
   "id": "da2a1955-0c7e-45b4-ba1e-f713492ad7fb",
   "metadata": {},
   "outputs": [],
   "source": [
    "#W3A8\n",
    "a, b = map(str, input().split())\n",
    "if len(a) > len(b):\n",
    "    print('True')\n",
    "else:\n",
    "    print('False')"
   ]
  },
  {
   "cell_type": "code",
   "execution_count": 2,
   "id": "2febe98b-8972-4f3b-8ba7-7f59f0ee93fa",
   "metadata": {},
   "outputs": [
    {
     "name": "stdout",
     "output_type": "stream",
     "text": [
      " 3 4 5\n"
     ]
    },
    {
     "name": "stdout",
     "output_type": "stream",
     "text": [
      "No\n"
     ]
    }
   ],
   "source": [
    "#W3A9\n",
    "a, b, c = map(float, input().split())\n",
    "if a + b > c and b + c > a and a + c > b:\n",
    "    print('Yes')\n",
    "else:\n",
    "    print('No')"
   ]
  },
  {
   "cell_type": "code",
   "execution_count": 1,
   "id": "cf9fd152-dfdd-49e7-b257-047ccfdbcb75",
   "metadata": {},
   "outputs": [
    {
     "name": "stdout",
     "output_type": "stream",
     "text": [
      " 3 4 5 6\n"
     ]
    },
    {
     "name": "stdout",
     "output_type": "stream",
     "text": [
      "6\n"
     ]
    }
   ],
   "source": [
    "#W3A10\n",
    "a, b, c, d = map(int, input().split())\n",
    "lists = [a, b, c, d]\n",
    "print(max(lists))"
   ]
  },
  {
   "cell_type": "code",
   "execution_count": 10,
   "id": "ff46e0be-ef3b-47a4-a7ba-233970aee346",
   "metadata": {},
   "outputs": [
    {
     "name": "stdout",
     "output_type": "stream",
     "text": [
      " 5 4 3\n"
     ]
    },
    {
     "name": "stdout",
     "output_type": "stream",
     "text": [
      "Tam giac vuong\n"
     ]
    }
   ],
   "source": [
    "#W3A11\n",
    "from math import sqrt\n",
    "a, b, c = map(float, input().split())\n",
    "if a + b > c and b + c > a and a + c > b:\n",
    "    if a == b == c:\n",
    "        print('Tam giac deu')\n",
    "    elif a == b or a == c or b == c:\n",
    "        print('Tam giac can')\n",
    "    elif (sqrt(a**2 + b**2) == c) or (sqrt(a**2 + c**2) == b) or (sqrt(b**2 + c**2) == a):\n",
    "        print('Tam giac vuong')\n",
    "    else:\n",
    "        print('Tam giac thuong')\n",
    "\n",
    "else:\n",
    "    print('Khong phai tam giac')"
   ]
  },
  {
   "cell_type": "code",
   "execution_count": 8,
   "id": "53ebcb6b-c771-4879-b95b-07fdddd6b6a5",
   "metadata": {},
   "outputs": [
    {
     "name": "stdout",
     "output_type": "stream",
     "text": [
      " 2023\n"
     ]
    },
    {
     "name": "stdout",
     "output_type": "stream",
     "text": [
      "No\n"
     ]
    }
   ],
   "source": [
    "#W3A12\n",
    "n = int(input())\n",
    "if n % 400 == 0 or (n % 4 == 0 and n % 100 != 0):\n",
    "    print('Yes')\n",
    "else:\n",
    "    print('No')"
   ]
  },
  {
   "cell_type": "code",
   "execution_count": 9,
   "id": "49b94015-7ede-4aff-97f4-3052237cdb29",
   "metadata": {},
   "outputs": [
    {
     "name": "stdout",
     "output_type": "stream",
     "text": [
      " -3 0\n"
     ]
    },
    {
     "name": "stdout",
     "output_type": "stream",
     "text": [
      "0.00\n"
     ]
    }
   ],
   "source": [
    "#W3A14\n",
    "a, b = map(float, input().split())\n",
    "if a == 0 and b != 0:\n",
    "    print('Vo nghiem')\n",
    "elif a == b == 0:\n",
    "    print('Vo so nghiem')\n",
    "else:\n",
    "    x = -b / a\n",
    "    if x == 0:\n",
    "        print('0.00')\n",
    "    else:\n",
    "        print(f'{x:.2f}')"
   ]
  },
  {
   "cell_type": "code",
   "execution_count": 19,
   "id": "1ef3d4d0-f2cb-4f36-a065-c403c3fa10d7",
   "metadata": {},
   "outputs": [
    {
     "name": "stdout",
     "output_type": "stream",
     "text": [
      " 10\n"
     ]
    },
    {
     "name": "stdout",
     "output_type": "stream",
     "text": [
      "Gioi\n"
     ]
    }
   ],
   "source": [
    "# W3A15\n",
    "score = float(input())\n",
    "if score >= 8:\n",
    "    print('Gioi')\n",
    "elif score >= 6.5:\n",
    "    print('Kha')\n",
    "elif score >= 5:\n",
    "    print('Trung binh')\n",
    "else:\n",
    "    print('Yeu')"
   ]
  },
  {
   "cell_type": "code",
   "execution_count": 28,
   "id": "6fc0595f-4f62-479d-947f-334b238ee962",
   "metadata": {},
   "outputs": [
    {
     "name": "stdout",
     "output_type": "stream",
     "text": [
      " -32.72\n"
     ]
    },
    {
     "name": "stdout",
     "output_type": "stream",
     "text": [
      "-32 -33 -33\n"
     ]
    }
   ],
   "source": [
    "# W3A16\n",
    "n = float(input())\n",
    "nguyen = int(n)\n",
    "thap_phan = n - nguyen\n",
    "\n",
    "if thap_phan != 0:\n",
    "    if n >= 0:\n",
    "        ceil = nguyen + 1\n",
    "        floor = nguyen\n",
    "        if thap_phan >= 0.5:\n",
    "            rounding = nguyen + 1\n",
    "        else:\n",
    "            rounding = nguyen\n",
    "    else: \n",
    "        ceil = nguyen\n",
    "        floor = nguyen - 1\n",
    "        if thap_phan >= -0.5:\n",
    "            rounding = nguyen\n",
    "        else:\n",
    "            rounding = nguyen - 1\n",
    "\n",
    "else:\n",
    "    ceil = floor = rounding = nguyen\n",
    "\n",
    "print(ceil, floor, rounding)\n",
    "        "
   ]
  },
  {
   "cell_type": "code",
   "execution_count": 59,
   "id": "83316f78-c06a-497e-89fe-6e6c5e65369f",
   "metadata": {},
   "outputs": [
    {
     "name": "stdout",
     "output_type": "stream",
     "text": [
      " 0 2 4 8\n"
     ]
    },
    {
     "name": "stdout",
     "output_type": "stream",
     "text": [
      "No\n"
     ]
    }
   ],
   "source": [
    "# W3A17 \n",
    "a, b, c, d = map(float, input().split())\n",
    "\n",
    "if a == b == c == d:\n",
    "    print('Yes')\n",
    "elif a == 0:\n",
    "    print('No')\n",
    "else:\n",
    "    q = b / a\n",
    "    if q.is_integer() and b * q == c and c ** q == d:\n",
    "        print('Yes')\n",
    "    else:\n",
    "        print('False')\n",
    "        "
   ]
  }
 ],
 "metadata": {
  "kernelspec": {
   "display_name": "Python 3 (ipykernel)",
   "language": "python",
   "name": "python3"
  },
  "language_info": {
   "codemirror_mode": {
    "name": "ipython",
    "version": 3
   },
   "file_extension": ".py",
   "mimetype": "text/x-python",
   "name": "python",
   "nbconvert_exporter": "python",
   "pygments_lexer": "ipython3",
   "version": "3.13.7"
  }
 },
 "nbformat": 4,
 "nbformat_minor": 5
}
